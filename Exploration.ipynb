{
 "cells": [
  {
   "cell_type": "code",
   "execution_count": 5,
   "metadata": {
    "collapsed": false
   },
   "outputs": [
    {
     "name": "stdout",
     "output_type": "stream",
     "text": [
      "Populating the interactive namespace from numpy and matplotlib\n"
     ]
    }
   ],
   "source": [
    "import pandas as pd\n",
    "import matplotlib.pyplot as plt\n",
    "%pylab inline\n",
    "import seaborn as sns\n",
    "import Quandl\n",
    "from account_info import quandl_api_key"
   ]
  },
  {
   "cell_type": "markdown",
   "metadata": {},
   "source": [
    "# I. Get Data"
   ]
  },
  {
   "cell_type": "code",
   "execution_count": 95,
   "metadata": {
    "collapsed": false
   },
   "outputs": [],
   "source": [
    "data = Quandl.get('WIKI/CSCO')"
   ]
  },
  {
   "cell_type": "markdown",
   "metadata": {},
   "source": [
    "# Get Gaps\n",
    "Gap definition: previous day low is lower next day high"
   ]
  },
  {
   "cell_type": "code",
   "execution_count": 94,
   "metadata": {
    "collapsed": false
   },
   "outputs": [],
   "source": [
    "#=====[ Step 1: reindex ]=====\n",
    "df = data[['Low', 'High']].copy()\n",
    "df['Date'] = df.index\n",
    "df.index = range(len(df))\n",
    "\n",
    "#=====[ Step 2: find gaps ]=====\n",
    "down_gap_amounts = (df[0:-1].Low - df[1:].High)\n",
    "down_gaps = down_gap_amounts > 0\n",
    "up_gap_amounts = (df[1:].Low - df[0:-1].High)\n",
    "up_gaps = up_gap_amounts > 0\n",
    "up_gaps = (df[1:].Low > df[0:-1].High) # should start at 1-index\n",
    "\n",
    "#=====[ Step 3: reintegrate into series ]=====\n",
    "df['down_gap_amounts'] = np.nan\n",
    "df['up_gap_amounts'] = np.nan\n",
    "df['down_gap_amounts'].iloc[1:] = down_gap_amounts\n",
    "df['up_gap_amounts'].iloc[1:] = up_gap_amounts\n",
    "df.index = df['Date']"
   ]
  }
 ],
 "metadata": {
  "kernelspec": {
   "display_name": "Python 2",
   "language": "python",
   "name": "python2"
  },
  "language_info": {
   "codemirror_mode": {
    "name": "ipython",
    "version": 2
   },
   "file_extension": ".py",
   "mimetype": "text/x-python",
   "name": "python",
   "nbconvert_exporter": "python",
   "pygments_lexer": "ipython2",
   "version": "2.7.11"
  }
 },
 "nbformat": 4,
 "nbformat_minor": 0
}
